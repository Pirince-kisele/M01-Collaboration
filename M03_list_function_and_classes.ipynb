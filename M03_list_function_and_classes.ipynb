{
 "cells": [
  {
   "cell_type": "code",
   "execution_count": 6,
   "id": "c419a5ed",
   "metadata": {},
   "outputs": [
    {
     "name": "stdout",
     "output_type": "stream",
     "text": [
      "Enter vehicle typecar\n",
      "Enter year2022\n",
      "Enter makeToyota\n",
      "Enter modalCorolla\n",
      "Enter doors4\n",
      "Enter roofsun roof\n",
      "Vehicle type: car\n",
      "Year: 2022\n",
      "Make: Toyota\n",
      "Model: 4\n",
      "Roof: sun roof\n"
     ]
    }
   ],
   "source": [
    "class Vehicle:\n",
    "    def __init__(self, vehicle_type):\n",
    "        self.vehicle_type = vehicle_type\n",
    "        \n",
    "    \n",
    "\n",
    "class Automobile(Vehicle):\n",
    "    def __init__(self, vehicle_type, year, make, model,doors, roof):\n",
    "        super().__init__(vehicle_type)\n",
    "        self.year = year\n",
    "        self.make = make\n",
    "        self.model = model\n",
    "        self.doors = doors\n",
    "        self.roof = roof\n",
    "    def display(self):\n",
    "        print(f\"Vehicle type: {self.vehicle_type}\")\n",
    "        print(f\"Year: {self.year}\")\n",
    "        print(f\"Make: {self.make}\")\n",
    "        print(f\"Model: {self.doors}\")\n",
    "        print(f\"Roof: {self.roof}\")\n",
    "        \n",
    "def main():\n",
    "    vehicle_type = input(\"Enter vehicle type\")\n",
    "    year = input(\"Enter year\")\n",
    "    make = input(\"Enter make\")\n",
    "    model = input(\"Enter modal\")\n",
    "    doors = input(\"Enter doors\")\n",
    "    roof = input(\"Enter roof\")\n",
    "    \n",
    "    car = Automobile(vehicle_type, year, make, model, doors, roof)\n",
    "    car.display()\n",
    "    \n",
    "main()\n",
    "    \n",
    "\n",
    "    \n",
    "    "
   ]
  },
  {
   "cell_type": "code",
   "execution_count": null,
   "id": "e478681c",
   "metadata": {},
   "outputs": [],
   "source": []
  }
 ],
 "metadata": {
  "kernelspec": {
   "display_name": "Python 3 (ipykernel)",
   "language": "python",
   "name": "python3"
  },
  "language_info": {
   "codemirror_mode": {
    "name": "ipython",
    "version": 3
   },
   "file_extension": ".py",
   "mimetype": "text/x-python",
   "name": "python",
   "nbconvert_exporter": "python",
   "pygments_lexer": "ipython3",
   "version": "3.11.5"
  }
 },
 "nbformat": 4,
 "nbformat_minor": 5
}
