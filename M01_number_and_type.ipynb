{
 "cells": [
  {
   "cell_type": "code",
   "execution_count": 1,
   "id": "d231de50",
   "metadata": {},
   "outputs": [],
   "source": [
    "second_per_hour = 60 * 60"
   ]
  },
  {
   "cell_type": "code",
   "execution_count": 2,
   "id": "32f67af0",
   "metadata": {},
   "outputs": [],
   "source": [
    "second_per_day = second_per_hour * 24"
   ]
  },
  {
   "cell_type": "code",
   "execution_count": 3,
   "id": "872dec03",
   "metadata": {},
   "outputs": [
    {
     "name": "stdout",
     "output_type": "stream",
     "text": [
      "24.0\n"
     ]
    }
   ],
   "source": [
    "print(second_per_day / second_per_hour)"
   ]
  },
  {
   "cell_type": "code",
   "execution_count": 6,
   "id": "63aaed7a",
   "metadata": {},
   "outputs": [
    {
     "name": "stdout",
     "output_type": "stream",
     "text": [
      "24\n"
     ]
    }
   ],
   "source": [
    "print(second_per_day // second_per_hour)"
   ]
  },
  {
   "cell_type": "code",
   "execution_count": null,
   "id": "a90f8fe0",
   "metadata": {},
   "outputs": [],
   "source": []
  }
 ],
 "metadata": {
  "kernelspec": {
   "display_name": "Python 3 (ipykernel)",
   "language": "python",
   "name": "python3"
  },
  "language_info": {
   "codemirror_mode": {
    "name": "ipython",
    "version": 3
   },
   "file_extension": ".py",
   "mimetype": "text/x-python",
   "name": "python",
   "nbconvert_exporter": "python",
   "pygments_lexer": "ipython3",
   "version": "3.11.5"
  }
 },
 "nbformat": 4,
 "nbformat_minor": 5
}
