{
 "cells": [
  {
   "cell_type": "code",
   "execution_count": 4,
   "id": "b36b8025",
   "metadata": {},
   "outputs": [
    {
     "name": "stdout",
     "output_type": "stream",
     "text": [
      "Open 9-5 daily.\n"
     ]
    }
   ],
   "source": [
    "import zoo\n",
    "messagerie = zoo\n",
    "messagerie.hours()"
   ]
  },
  {
   "cell_type": "code",
   "execution_count": null,
   "id": "36886fb1",
   "metadata": {
    "collapsed": true
   },
   "outputs": [],
   "source": [
    "import sqlalchemy as sa\n",
    "conn = sa.create_engine('sqlite:///:books.db:')\n",
    "conn.execute('''CREATE TABLE books\n",
    "    (title VARCHAR(20),\n",
    "    author VARCHAR(20),\n",
    "    year INT)''')\n",
    "\n"
   ]
  },
  {
   "cell_type": "code",
   "execution_count": 8,
   "id": "e3a056a2",
   "metadata": {},
   "outputs": [
    {
     "data": {
      "text/plain": [
       "<sqlalchemy.engine.cursor.LegacyCursorResult at 0x10e903810>"
      ]
     },
     "execution_count": 8,
     "metadata": {},
     "output_type": "execute_result"
    }
   ],
   "source": [
    "ins = 'INSERT INTO books(title, author, year) VALUES (?,?,?)'\n",
    "conn.execute(ins, 'The Weirdstone of Brisingamen', 'Alan Garner', 1960)\n",
    "conn.execute(ins, 'Perdido Street Station', 'China Mieville', 2000) \n",
    "conn.execute(ins, 'Thud!', 'Terry Pratchett', 2005) \n",
    "conn.execute(ins, 'The Spellman Files', 'Lisa Lutz', 2007) \n",
    "conn.execute(ins, 'Small Gods', 'Terry Pratchett', 1992) "
   ]
  },
  {
   "cell_type": "code",
   "execution_count": 16,
   "id": "f58d84a3",
   "metadata": {},
   "outputs": [
    {
     "name": "stdout",
     "output_type": "stream",
     "text": [
      "<sqlalchemy.engine.cursor.LegacyCursorResult object at 0x10e82a690>\n"
     ]
    }
   ],
   "source": [
    "columns = conn.execute('SELECT title FROM books ORDER BY title ASC;')\n",
    "print(columns)"
   ]
  },
  {
   "cell_type": "code",
   "execution_count": 17,
   "id": "fc12f600",
   "metadata": {},
   "outputs": [
    {
     "name": "stdout",
     "output_type": "stream",
     "text": [
      "('Perdido Street Station',)\n",
      "('Small Gods',)\n",
      "('The Spellman Files',)\n",
      "('The Weirdstone of Brisingamen',)\n",
      "('Thud!',)\n"
     ]
    }
   ],
   "source": [
    "for column in columns:\n",
    "    print(column)"
   ]
  },
  {
   "cell_type": "code",
   "execution_count": null,
   "id": "67bb6373",
   "metadata": {},
   "outputs": [],
   "source": []
  }
 ],
 "metadata": {
  "kernelspec": {
   "display_name": "Python 3 (ipykernel)",
   "language": "python",
   "name": "python3"
  },
  "language_info": {
   "codemirror_mode": {
    "name": "ipython",
    "version": 3
   },
   "file_extension": ".py",
   "mimetype": "text/x-python",
   "name": "python",
   "nbconvert_exporter": "python",
   "pygments_lexer": "ipython3",
   "version": "3.11.5"
  }
 },
 "nbformat": 4,
 "nbformat_minor": 5
}
