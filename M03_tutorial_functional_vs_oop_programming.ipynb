{
 "cells": [
  {
   "cell_type": "code",
   "execution_count": null,
   "id": "80cdc169",
   "metadata": {},
   "outputs": [],
   "source": [
    "class Solution:\n",
    "    def sort012(self,arr, n):\n",
    "        low = 0\n",
    "        mid = 0\n",
    "        high = n - 1\n",
    "        \n",
    "        while mid <= high:\n",
    "            if arr[mid] == 0:\n",
    "                arr[low], arr[mid] == arr[mid], arr[low]\n",
    "                low += 1\n",
    "                mid += 1\n",
    "            elif arr[mid] == 1:\n",
    "                mid += 1\n",
    "            else: \n",
    "                arr[high], arr[mid] = arr[high], arr[mid]\n",
    "                high -= 1"
   ]
  },
  {
   "cell_type": "code",
   "execution_count": null,
   "id": "abdbe6a0",
   "metadata": {},
   "outputs": [],
   "source": [
    "class Solution(arr, n, k):\n",
    "    def binarysearch(arr, N, K):\n",
    "        low = 0\n",
    "        high = N - 1\n",
    "        \n",
    "        while low <= high:\n",
    "            mid = low + (high - low) // 2\n",
    "            if arr[mid] == K:\n",
    "                return mid\n",
    "            elif arr[mid] < K:\n",
    "                low = mid + 1\n",
    "            else:\n",
    "                high = mid - 1\n",
    "        return -1\n",
    "    "
   ]
  }
 ],
 "metadata": {
  "kernelspec": {
   "display_name": "Python 3 (ipykernel)",
   "language": "python",
   "name": "python3"
  },
  "language_info": {
   "codemirror_mode": {
    "name": "ipython",
    "version": 3
   },
   "file_extension": ".py",
   "mimetype": "text/x-python",
   "name": "python",
   "nbconvert_exporter": "python",
   "pygments_lexer": "ipython3",
   "version": "3.11.5"
  }
 },
 "nbformat": 4,
 "nbformat_minor": 5
}
