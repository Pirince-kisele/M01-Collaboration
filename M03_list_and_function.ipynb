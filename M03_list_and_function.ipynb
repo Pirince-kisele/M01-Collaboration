{
 "cells": [
  {
   "cell_type": "code",
   "execution_count": 22,
   "id": "c5d361fd",
   "metadata": {},
   "outputs": [
    {
     "name": "stdout",
     "output_type": "stream",
     "text": [
      "Cindrella\n",
      "['mozarella', 'cindrella', 'samonella']\n",
      "MOZARELLA\n",
      "['mozarella', 'cindrella', 'samonella']\n",
      "['mozarella', 'cindrella']\n"
     ]
    }
   ],
   "source": [
    "things = [\"mozarella\", \"cindrella\", \"samonella\"]\n",
    "print(things[1].capitalize())\n",
    "print(things)\n",
    "print(things[0].upper())\n",
    "print(things)\n",
    "del things[-1]\n",
    "print(things)\n",
    "\n"
   ]
  },
  {
   "cell_type": "code",
   "execution_count": 17,
   "id": "a16d186b",
   "metadata": {},
   "outputs": [
    {
     "name": "stdout",
     "output_type": "stream",
     "text": [
      "['Harry', 'Ron', 'Hermione']\n"
     ]
    }
   ],
   "source": [
    "def good():\n",
    "    return list((\"Harry\", \"Ron\", \"Hermione\"))\n",
    "print(good())"
   ]
  },
  {
   "cell_type": "code",
   "execution_count": 19,
   "id": "7825c398",
   "metadata": {},
   "outputs": [
    {
     "name": "stdout",
     "output_type": "stream",
     "text": [
      "3\n"
     ]
    }
   ],
   "source": [
    "def get_odds():\n",
    "    numbers = range(10)\n",
    "    for number in numbers:\n",
    "        if number == 3:\n",
    "            return number\n",
    "            break\n",
    "            \n",
    "print(get_odds())"
   ]
  },
  {
   "cell_type": "code",
   "execution_count": null,
   "id": "e6468d7b",
   "metadata": {},
   "outputs": [],
   "source": []
  }
 ],
 "metadata": {
  "kernelspec": {
   "display_name": "Python 3 (ipykernel)",
   "language": "python",
   "name": "python3"
  },
  "language_info": {
   "codemirror_mode": {
    "name": "ipython",
    "version": 3
   },
   "file_extension": ".py",
   "mimetype": "text/x-python",
   "name": "python",
   "nbconvert_exporter": "python",
   "pygments_lexer": "ipython3",
   "version": "3.11.5"
  }
 },
 "nbformat": 4,
 "nbformat_minor": 5
}
