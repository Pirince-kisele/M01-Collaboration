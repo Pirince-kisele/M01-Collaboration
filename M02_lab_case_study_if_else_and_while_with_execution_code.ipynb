{
 "cells": [
  {
   "cell_type": "code",
   "execution_count": 1,
   "id": "a5fb95d8",
   "metadata": {},
   "outputs": [
    {
     "name": "stdout",
     "output_type": "stream",
     "text": [
      "Enter Student Last Name or ZZZ to QUIT: liyo\n",
      "Enter Student First Name: pirince\n",
      "Enter Student GPA: 3.5\n",
      "pirince liyo has made the Deans List.\n",
      "Done\n"
     ]
    }
   ],
   "source": [
    "#Pirince Liyo\n",
    "# M02 Lab Case Study if else and while\n",
    "# This Python app will accept student names and GPAs and test if the student qualifies for either the Dean's List or the Honor Roll.\n",
    "# DEAN_LIST is the variable that save my GPA in float, QUIT is a variable that save the string ZZZ, \n",
    "#last_name is a variabe that save the last name of the student entered\n",
    "# first_name is a variabe that save the first name of the student entered\n",
    "#gpa is the variable that entered value of GPA\n",
    "DEAN_LIST = 3.5\n",
    "QUIT = 'ZZZ'\n",
    "\n",
    "last_name = input(f'Enter Student Last Name or {QUIT} to QUIT: ')\n",
    "while last_name != QUIT:\n",
    "    first_name = input(f'Enter Student First Name: ')\n",
    "    gpa = input('Enter Student GPA: ')\n",
    "    if float(gpa) >= DEAN_LIST:\n",
    "        print(f'{first_name} {last_name} has made the Deans List.')\n",
    "        break\n",
    "    else:\n",
    "        print(f'{first_name} {last_name} has made the Honor Roll.')\n",
    "        break\n",
    "print('Done')\n"
   ]
  },
  {
   "cell_type": "code",
   "execution_count": 2,
   "id": "2102d2ef",
   "metadata": {},
   "outputs": [
    {
     "name": "stdout",
     "output_type": "stream",
     "text": [
      "Enter Student Last Name or ZZZ to QUIT: kisele\n",
      "Enter Student First Name: pirince\n",
      "Enter Student GPA: 3.2\n",
      "pirince kisele has made the Honor Roll.\n",
      "Done\n"
     ]
    }
   ],
   "source": [
    "#Pirince Liyo\n",
    "# M02 Lab Case Study if else and while\n",
    "# This Python app will accept student names and GPAs and test if the student qualifies for either the Dean's List or the Honor Roll.\n",
    "# DEAN_LIST is the variable that save my GPA in float, QUIT is a variable that save the string ZZZ, \n",
    "#last_name is a variabe that save the last name of the student entered\n",
    "# first_name is a variabe that save the first name of the student entered\n",
    "#gpa is the variable that entered value of GPA\n",
    "DEAN_LIST = 3.5\n",
    "QUIT = 'ZZZ'\n",
    "\n",
    "last_name = input(f'Enter Student Last Name or {QUIT} to QUIT: ')\n",
    "while last_name != QUIT:\n",
    "    first_name = input(f'Enter Student First Name: ')\n",
    "    gpa = input('Enter Student GPA: ')\n",
    "    if float(gpa) >= DEAN_LIST:\n",
    "        print(f'{first_name} {last_name} has made the Deans List.')\n",
    "        break\n",
    "    else:\n",
    "        print(f'{first_name} {last_name} has made the Honor Roll.')\n",
    "        break\n",
    "print('Done')\n"
   ]
  },
  {
   "cell_type": "code",
   "execution_count": 1,
   "id": "0e29fb5b",
   "metadata": {},
   "outputs": [
    {
     "name": "stdout",
     "output_type": "stream",
     "text": [
      "Enter Student Last Name or ZZZ to QUIT: bea\n",
      "Enter Student First Name: kelele\n",
      "Enter Student GPA: 3.7\n",
      "kelele bea has made the Deans List.\n",
      "Done\n"
     ]
    }
   ],
   "source": [
    "#Pirince Liyo\n",
    "# M02 Lab Case Study if else and while\n",
    "# This Python app will accept student names and GPAs and test if the student qualifies for either the Dean's List or the Honor Roll.\n",
    "# DEAN_LIST is the variable that save my GPA in float, QUIT is a variable that save the string ZZZ, \n",
    "#last_name is a variabe that save the last name of the student entered\n",
    "# first_name is a variabe that save the first name of the student entered\n",
    "#gpa is the variable that entered value of GPA\n",
    "DEAN_LIST = 3.5\n",
    "QUIT = 'ZZZ'\n",
    "\n",
    "last_name = input(f'Enter Student Last Name or {QUIT} to QUIT: ')\n",
    "while last_name != QUIT:\n",
    "    first_name = input(f'Enter Student First Name: ')\n",
    "    gpa = input('Enter Student GPA: ')\n",
    "    if float(gpa) >= DEAN_LIST:\n",
    "        print(f'{first_name} {last_name} has made the Deans List.')\n",
    "        break\n",
    "    else:\n",
    "        print(f'{first_name} {last_name} has made the Honor Roll.')\n",
    "        break\n",
    "print('Done')\n"
   ]
  },
  {
   "cell_type": "code",
   "execution_count": 2,
   "id": "1887d8b7",
   "metadata": {},
   "outputs": [
    {
     "name": "stdout",
     "output_type": "stream",
     "text": [
      "Enter Student Last Name or ZZZ to QUIT: mafuta\n",
      "Enter Student First Name: rebeca\n",
      "Enter Student GPA: 3.4\n",
      "rebeca mafuta has made the Honor Roll.\n",
      "Done\n"
     ]
    }
   ],
   "source": [
    "#Pirince Liyo\n",
    "# M02 Lab Case Study if else and while\n",
    "# This Python app will accept student names and GPAs and test if the student qualifies for either the Dean's List or the Honor Roll.\n",
    "# DEAN_LIST is the variable that save my GPA in float, QUIT is a variable that save the string ZZZ, \n",
    "#last_name is a variabe that save the last name of the student entered\n",
    "# first_name is a variabe that save the first name of the student entered\n",
    "#gpa is the variable that entered value of GPA\n",
    "DEAN_LIST = 3.5\n",
    "QUIT = 'ZZZ'\n",
    "\n",
    "last_name = input(f'Enter Student Last Name or {QUIT} to QUIT: ')\n",
    "while last_name != QUIT:\n",
    "    first_name = input(f'Enter Student First Name: ')\n",
    "    gpa = input('Enter Student GPA: ')\n",
    "    if float(gpa) >= DEAN_LIST:\n",
    "        print(f'{first_name} {last_name} has made the Deans List.')\n",
    "        break\n",
    "    else:\n",
    "        print(f'{first_name} {last_name} has made the Honor Roll.')\n",
    "        break\n",
    "print('Done')\n"
   ]
  },
  {
   "cell_type": "code",
   "execution_count": 3,
   "id": "12c2d8c4",
   "metadata": {},
   "outputs": [
    {
     "name": "stdout",
     "output_type": "stream",
     "text": [
      "Enter Student Last Name or ZZZ to QUIT: bellik\n",
      "Enter Student First Name: felicia\n",
      "Enter Student GPA: 3.3\n",
      "felicia bellik has made the Honor Roll.\n",
      "Done\n"
     ]
    }
   ],
   "source": [
    "#Pirince Liyo\n",
    "# M02 Lab Case Study if else and while\n",
    "# This Python app will accept student names and GPAs and test if the student qualifies for either the Dean's List or the Honor Roll.\n",
    "# DEAN_LIST is the variable that save my GPA in float, QUIT is a variable that save the string ZZZ, \n",
    "#last_name is a variabe that save the last name of the student entered\n",
    "# first_name is a variabe that save the first name of the student entered\n",
    "#gpa is the variable that entered value of GPA\n",
    "DEAN_LIST = 3.5\n",
    "QUIT = 'ZZZ'\n",
    "\n",
    "last_name = input(f'Enter Student Last Name or {QUIT} to QUIT: ')\n",
    "while last_name != QUIT:\n",
    "    first_name = input(f'Enter Student First Name: ')\n",
    "    gpa = input('Enter Student GPA: ')\n",
    "    if float(gpa) >= DEAN_LIST:\n",
    "        print(f'{first_name} {last_name} has made the Deans List.')\n",
    "        break\n",
    "    else:\n",
    "        print(f'{first_name} {last_name} has made the Honor Roll.')\n",
    "        break\n",
    "print('Done')\n"
   ]
  },
  {
   "cell_type": "code",
   "execution_count": null,
   "id": "38f32045",
   "metadata": {},
   "outputs": [],
   "source": []
  }
 ],
 "metadata": {
  "kernelspec": {
   "display_name": "Python 3 (ipykernel)",
   "language": "python",
   "name": "python3"
  },
  "language_info": {
   "codemirror_mode": {
    "name": "ipython",
    "version": 3
   },
   "file_extension": ".py",
   "mimetype": "text/x-python",
   "name": "python",
   "nbconvert_exporter": "python",
   "pygments_lexer": "ipython3",
   "version": "3.11.5"
  }
 },
 "nbformat": 4,
 "nbformat_minor": 5
}
