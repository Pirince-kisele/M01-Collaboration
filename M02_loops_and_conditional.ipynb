{
 "cells": [
  {
   "cell_type": "code",
   "execution_count": 1,
   "id": "cc822b84",
   "metadata": {},
   "outputs": [
    {
     "name": "stdout",
     "output_type": "stream",
     "text": [
      "too low\n"
     ]
    }
   ],
   "source": [
    "secret = 7\n",
    "guess = 5\n",
    "if guess < secret:\n",
    "    print('too low')\n",
    "elif guess > secret:\n",
    "    print('too high')\n",
    "else:\n",
    "    print('just rigth')\n"
   ]
  },
  {
   "cell_type": "code",
   "execution_count": 2,
   "id": "dde40281",
   "metadata": {},
   "outputs": [
    {
     "name": "stdout",
     "output_type": "stream",
     "text": [
      "pea\n",
      "cherry\n"
     ]
    }
   ],
   "source": [
    "small = True\n",
    "if small:\n",
    "    print('pea\\ncherry')\n",
    "else:\n",
    "    print('watermelon\\npumpkin')"
   ]
  },
  {
   "cell_type": "code",
   "execution_count": 3,
   "id": "aa602b3a",
   "metadata": {},
   "outputs": [
    {
     "name": "stdout",
     "output_type": "stream",
     "text": [
      "3\n",
      "2\n",
      "1\n",
      "0\n"
     ]
    }
   ],
   "source": [
    "for value in range(3,-1,-1):\n",
    "    print(value)"
   ]
  },
  {
   "cell_type": "code",
   "execution_count": 5,
   "id": "5303dfe8",
   "metadata": {},
   "outputs": [
    {
     "name": "stdout",
     "output_type": "stream",
     "text": [
      "too low\n",
      "too low\n",
      "too low\n",
      "too low\n",
      "too low\n",
      "too low\n"
     ]
    }
   ],
   "source": [
    "guess_me = 7\n",
    "number = 1\n",
    "while number < guess_me:\n",
    "    if number < guess_me:\n",
    "        print('too low')\n",
    "    elif number == guess_me:\n",
    "        print('found it!')\n",
    "        break\n",
    "    else:\n",
    "        print('oops')\n",
    "        break\n",
    "    number += 1"
   ]
  },
  {
   "cell_type": "code",
   "execution_count": 6,
   "id": "594887db",
   "metadata": {},
   "outputs": [
    {
     "name": "stdout",
     "output_type": "stream",
     "text": [
      "too low\n",
      "too low\n",
      "too low\n",
      "too low\n",
      "too low\n",
      "found it\n"
     ]
    }
   ],
   "source": [
    "guess_me = 5\n",
    "for number in range(10):\n",
    "    if number < guess_me:\n",
    "        print('too low')\n",
    "    elif number == guess_me:\n",
    "        print('found it')\n",
    "        break\n",
    "    else:\n",
    "        print('oops')"
   ]
  },
  {
   "cell_type": "code",
   "execution_count": null,
   "id": "4f3ddf1c",
   "metadata": {},
   "outputs": [],
   "source": []
  }
 ],
 "metadata": {
  "kernelspec": {
   "display_name": "Python 3 (ipykernel)",
   "language": "python",
   "name": "python3"
  },
  "language_info": {
   "codemirror_mode": {
    "name": "ipython",
    "version": 3
   },
   "file_extension": ".py",
   "mimetype": "text/x-python",
   "name": "python",
   "nbconvert_exporter": "python",
   "pygments_lexer": "ipython3",
   "version": "3.11.5"
  }
 },
 "nbformat": 4,
 "nbformat_minor": 5
}
